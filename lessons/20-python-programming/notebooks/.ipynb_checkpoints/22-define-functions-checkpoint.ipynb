{
 "cells": [
  {
   "cell_type": "markdown",
   "metadata": {},
   "source": [
    "# Examples of functions"
   ]
  },
  {
   "cell_type": "code",
   "execution_count": 1,
   "metadata": {
    "collapsed": true
   },
   "outputs": [],
   "source": [
    "def reverse_string(character_string):\n",
    "    \"\"\"Returns the character string parameter reverse\"\"\"\n",
    "    return character_string[::-1]"
   ]
  },
  {
   "cell_type": "code",
   "execution_count": 2,
   "metadata": {
    "collapsed": false
   },
   "outputs": [
    {
     "data": {
      "text/plain": [
       "'evil'"
      ]
     },
     "execution_count": 2,
     "metadata": {},
     "output_type": "execute_result"
    }
   ],
   "source": [
    "reverse_string('live')"
   ]
  },
  {
   "cell_type": "code",
   "execution_count": 3,
   "metadata": {
    "collapsed": true
   },
   "outputs": [],
   "source": [
    "def upper_string(character_string):\n",
    "    \"\"\"Returns the character string parameter reverse\"\"\"\n",
    "    return character_string.upper()"
   ]
  },
  {
   "cell_type": "code",
   "execution_count": 4,
   "metadata": {
    "collapsed": false
   },
   "outputs": [
    {
     "data": {
      "text/plain": [
       "'HELLO'"
      ]
     },
     "execution_count": 4,
     "metadata": {},
     "output_type": "execute_result"
    }
   ],
   "source": [
    "upper_string('Hello')"
   ]
  },
  {
   "cell_type": "markdown",
   "metadata": {},
   "source": [
    "# Create your own functions"
   ]
  },
  {
   "cell_type": "markdown",
   "metadata": {},
   "source": [
    "##### 1) Define a function called \"my_sum\" which gives the sum of 2 numbers"
   ]
  },
  {
   "cell_type": "code",
   "execution_count": null,
   "metadata": {
    "collapsed": true
   },
   "outputs": [],
   "source": []
  },
  {
   "cell_type": "code",
   "execution_count": null,
   "metadata": {
    "collapsed": true
   },
   "outputs": [],
   "source": [
    "print my_sum(10, 5)"
   ]
  },
  {
   "cell_type": "markdown",
   "metadata": {},
   "source": [
    "##### 2) Define a function called \"sentence_words_count\" which gives the number of words in a sentence"
   ]
  },
  {
   "cell_type": "code",
   "execution_count": null,
   "metadata": {
    "collapsed": true
   },
   "outputs": [],
   "source": []
  },
  {
   "cell_type": "code",
   "execution_count": null,
   "metadata": {
    "collapsed": true
   },
   "outputs": [],
   "source": [
    "shakespeare_poem = \"All the world's a stage,\" \\\n",
    "                    \"And all the men and women merely players;\" \\\n",
    "                    \"They have their exits and their entrances,\" \\\n",
    "                    \"And one man in his time plays many parts,\" \\\n",
    "                    \"His acts being seven ages. At first, the infant,\" \\\n",
    "                    \"Mewling and puking in the nurse's arms.\" \\\n",
    "                    \"Then the whining schoolboy, with his satchel\" \\\n",
    "                    \"And shining morning face, creeping like snail\" \\\n",
    "                    \"Unwillingly to school. And then the lover,\" \\\n",
    "                    \"Sighing like furnace, with a woeful ballad\" \\\n",
    "                    \"Made to his mistress' eyebrow. Then a soldier,\" \\\n",
    "                    \"Full of strange oaths and bearded like the pard,\" \\\n",
    "                    \"Jealous in honor, sudden and quick in quarrel,\" \\\n",
    "                    \"Seeking the bubble reputation\" \\\n",
    "                    \"Even in the cannon's mouth. And then the justice,\" \\\n",
    "                    \"In fair round belly with good capon lined,\" \\\n",
    "                    \"With eyes severe and beard of formal cut,\" \\\n",
    "                    \"Full of wise saws and modern instances;\" \\\n",
    "                    \"And so he plays his part. The sixth age shifts\" \\\n",
    "                    \"Into the lean and slippered pantaloon,\" \\\n",
    "                    \"With spectacles on nose and pouch on side;\" \\\n",
    "                    \"His youthful hose, well saved, a world too wide\" \\\n",
    "                    \"For his shrunk shank, and his big manly voice,\" \\\n",
    "                    \"Turning again toward childish treble, pipes\" \\\n",
    "                    \"And whistles in his sound. Last scene of all,\" \\\n",
    "                    \"That ends this strange eventful history,\" \\\n",
    "                    \"Is second childishness and mere oblivion,\" \\\n",
    "                    \"Sans teeth, sans eyes, sans taste, sans everything.\""
   ]
  },
  {
   "cell_type": "code",
   "execution_count": null,
   "metadata": {
    "collapsed": true
   },
   "outputs": [],
   "source": [
    "print sentence_words_count(shakespeare_poem)"
   ]
  },
  {
   "cell_type": "markdown",
   "metadata": {},
   "source": [
    "##### 3) Define a function called \"words_count\" which returns the occurence of each word in a sentence \n",
    "Instructions :\n",
    "- the result will be a dictionary of type : {'hello': 3})\n",
    "- don't import any particular modules\n",
    "\n",
    "Tricks :\n",
    "- be careful about the case (consider only lowercase)\n",
    "- you can use the functions lower(), split(), replace()"
   ]
  },
  {
   "cell_type": "code",
   "execution_count": null,
   "metadata": {
    "collapsed": true
   },
   "outputs": [],
   "source": []
  },
  {
   "cell_type": "code",
   "execution_count": null,
   "metadata": {
    "collapsed": true
   },
   "outputs": [],
   "source": [
    "print words_count(shakespeare_poem)"
   ]
  },
  {
   "cell_type": "markdown",
   "metadata": {},
   "source": [
    "##### What is the most recurrent word?"
   ]
  },
  {
   "cell_type": "code",
   "execution_count": null,
   "metadata": {
    "collapsed": true
   },
   "outputs": [],
   "source": []
  },
  {
   "cell_type": "markdown",
   "metadata": {},
   "source": [
    "# Bonus exercise"
   ]
  },
  {
   "cell_type": "markdown",
   "metadata": {},
   "source": [
    "###### Create a function which gives all the prime numbers until a given one"
   ]
  },
  {
   "cell_type": "code",
   "execution_count": null,
   "metadata": {
    "collapsed": true
   },
   "outputs": [],
   "source": []
  },
  {
   "cell_type": "code",
   "execution_count": null,
   "metadata": {
    "collapsed": true
   },
   "outputs": [],
   "source": [
    "prime_number_until(100)"
   ]
  }
 ],
 "metadata": {
  "kernelspec": {
   "display_name": "Python 2",
   "language": "python",
   "name": "python2"
  },
  "language_info": {
   "codemirror_mode": {
    "name": "ipython",
    "version": 2
   },
   "file_extension": ".py",
   "mimetype": "text/x-python",
   "name": "python",
   "nbconvert_exporter": "python",
   "pygments_lexer": "ipython2",
   "version": "2.7.11"
  }
 },
 "nbformat": 4,
 "nbformat_minor": 0
}
