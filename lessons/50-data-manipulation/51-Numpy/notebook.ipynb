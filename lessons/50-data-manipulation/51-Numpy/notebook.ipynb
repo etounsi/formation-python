{
 "cells": [
  {
   "cell_type": "markdown",
   "metadata": {},
   "source": [
    "# Librairies import"
   ]
  },
  {
   "cell_type": "code",
   "execution_count": 1,
   "metadata": {},
   "outputs": [],
   "source": [
    "import numpy as np"
   ]
  },
  {
   "cell_type": "markdown",
   "metadata": {},
   "source": [
    "# NumPy Basics\n",
    "NumPy's main object is the homogeneous multidimensional array. It is a table of elements (usually numbers), all of the same type, indexed by a tuple of positive integers"
   ]
  },
  {
   "cell_type": "markdown",
   "metadata": {},
   "source": [
    "## 1D array"
   ]
  },
  {
   "cell_type": "code",
   "execution_count": 2,
   "metadata": {},
   "outputs": [
    {
     "name": "stdout",
     "output_type": "stream",
     "text": [
      "<class 'numpy.ndarray'>\n",
      "ndim: 1\n",
      "shape : (3,)\n",
      "size : 3\n",
      "dtype : int64\n"
     ]
    },
    {
     "data": {
      "text/plain": [
       "array([1, 2, 3])"
      ]
     },
     "execution_count": 2,
     "metadata": {},
     "output_type": "execute_result"
    }
   ],
   "source": [
    "a_1d = np.array([1, 2, 3])\n",
    "print(type(a_1d))\n",
    "print(\"ndim:\", a_1d.ndim)\n",
    "print(\"shape :\", a_1d.shape)\n",
    "print(\"size :\", a_1d.size)\n",
    "print(\"dtype :\", a_1d.dtype)\n",
    "a_1d"
   ]
  },
  {
   "cell_type": "markdown",
   "metadata": {},
   "source": [
    "### Selecting an element"
   ]
  },
  {
   "cell_type": "code",
   "execution_count": 3,
   "metadata": {},
   "outputs": [
    {
     "name": "stdout",
     "output_type": "stream",
     "text": [
      "3\n",
      "1\n"
     ]
    }
   ],
   "source": [
    "print(a_1d[2])\n",
    "print(a_1d[0])"
   ]
  },
  {
   "cell_type": "markdown",
   "metadata": {},
   "source": [
    "## 2D array"
   ]
  },
  {
   "cell_type": "code",
   "execution_count": 4,
   "metadata": {},
   "outputs": [
    {
     "name": "stdout",
     "output_type": "stream",
     "text": [
      "<class 'numpy.ndarray'>\n",
      "ndim: 2\n",
      "shape : (3, 5)\n",
      "size : 15\n",
      "dtype : int64\n"
     ]
    },
    {
     "data": {
      "text/plain": [
       "array([[ 0,  1,  2,  3,  4],\n",
       "       [ 5,  6,  7,  8,  9],\n",
       "       [10, 11, 12, 13, 14]])"
      ]
     },
     "execution_count": 4,
     "metadata": {},
     "output_type": "execute_result"
    }
   ],
   "source": [
    "a_2d = np.arange(15).reshape(3, 5)\n",
    "print(type(a_2d))\n",
    "print(\"ndim:\", a_2d.ndim)\n",
    "print(\"shape :\", a_2d.shape)\n",
    "print(\"size :\", a_2d.size)\n",
    "print(\"dtype :\", a_2d.dtype)\n",
    "a_2d"
   ]
  },
  {
   "cell_type": "markdown",
   "metadata": {},
   "source": [
    "### Selecting an element"
   ]
  },
  {
   "cell_type": "code",
   "execution_count": 5,
   "metadata": {},
   "outputs": [
    {
     "name": "stdout",
     "output_type": "stream",
     "text": [
      "8\n",
      "8\n"
     ]
    }
   ],
   "source": [
    "print(a_2d[1][3])\n",
    "print(a_2d[1, 3])"
   ]
  },
  {
   "cell_type": "markdown",
   "metadata": {},
   "source": [
    "## Arrays can not have mixed types"
   ]
  },
  {
   "cell_type": "code",
   "execution_count": 6,
   "metadata": {},
   "outputs": [
    {
     "data": {
      "text/plain": [
       "array(['3', 'foo'], \n",
       "      dtype='<U21')"
      ]
     },
     "execution_count": 6,
     "metadata": {},
     "output_type": "execute_result"
    }
   ],
   "source": [
    "a_mixed = np.array([3, 'foo']) # 3 is automatically transformed into a string type\n",
    "a_mixed"
   ]
  },
  {
   "cell_type": "code",
   "execution_count": 7,
   "metadata": {},
   "outputs": [
    {
     "name": "stdout",
     "output_type": "stream",
     "text": [
      "<class 'numpy.str_'>\n"
     ]
    }
   ],
   "source": [
    "print(type(a_mixed[0]))"
   ]
  },
  {
   "cell_type": "markdown",
   "metadata": {},
   "source": [
    "# NumPy Array declaration\n",
    "They are several ways to create arrays"
   ]
  },
  {
   "cell_type": "markdown",
   "metadata": {},
   "source": [
    "## From python list"
   ]
  },
  {
   "cell_type": "code",
   "execution_count": 8,
   "metadata": {},
   "outputs": [
    {
     "data": {
      "text/plain": [
       "array(['foo', 'bar'], \n",
       "      dtype='<U3')"
      ]
     },
     "execution_count": 8,
     "metadata": {},
     "output_type": "execute_result"
    }
   ],
   "source": [
    "np.array(['foo', 'bar'])"
   ]
  },
  {
   "cell_type": "code",
   "execution_count": 9,
   "metadata": {},
   "outputs": [
    {
     "data": {
      "text/plain": [
       "array([[ 1.3, -3.7],\n",
       "       [ 7.6, -0.4]])"
      ]
     },
     "execution_count": 9,
     "metadata": {},
     "output_type": "execute_result"
    }
   ],
   "source": [
    "np.array([[1.3, -3.7], [7.6, -0.4]])"
   ]
  },
  {
   "cell_type": "code",
   "execution_count": 10,
   "metadata": {},
   "outputs": [
    {
     "data": {
      "text/plain": [
       "array([[ 1.+0.j,  2.+0.j],\n",
       "       [ 3.+0.j,  4.+0.j]])"
      ]
     },
     "execution_count": 10,
     "metadata": {},
     "output_type": "execute_result"
    }
   ],
   "source": [
    "np.array( [ [1,2], [3,4] ], dtype=complex)"
   ]
  },
  {
   "cell_type": "markdown",
   "metadata": {},
   "source": [
    "## With initial placeholded content"
   ]
  },
  {
   "cell_type": "markdown",
   "metadata": {},
   "source": [
    "### Array full of zeros"
   ]
  },
  {
   "cell_type": "code",
   "execution_count": 11,
   "metadata": {},
   "outputs": [
    {
     "data": {
      "text/plain": [
       "array([[ 0.,  0.,  0.,  0.,  0.,  0.,  0.],\n",
       "       [ 0.,  0.,  0.,  0.,  0.,  0.,  0.],\n",
       "       [ 0.,  0.,  0.,  0.,  0.,  0.,  0.],\n",
       "       [ 0.,  0.,  0.,  0.,  0.,  0.,  0.]])"
      ]
     },
     "execution_count": 11,
     "metadata": {},
     "output_type": "execute_result"
    }
   ],
   "source": [
    "np.zeros((4,7))"
   ]
  },
  {
   "cell_type": "markdown",
   "metadata": {},
   "source": [
    "### Array full of ones"
   ]
  },
  {
   "cell_type": "code",
   "execution_count": 12,
   "metadata": {},
   "outputs": [
    {
     "data": {
      "text/plain": [
       "array([[[1, 1, 1, 1],\n",
       "        [1, 1, 1, 1],\n",
       "        [1, 1, 1, 1]],\n",
       "\n",
       "       [[1, 1, 1, 1],\n",
       "        [1, 1, 1, 1],\n",
       "        [1, 1, 1, 1]]], dtype=int16)"
      ]
     },
     "execution_count": 12,
     "metadata": {},
     "output_type": "execute_result"
    }
   ],
   "source": [
    "np.ones((2,3,4), dtype=np.int16 )"
   ]
  },
  {
   "cell_type": "markdown",
   "metadata": {},
   "source": [
    "### Array as sequences"
   ]
  },
  {
   "cell_type": "code",
   "execution_count": 13,
   "metadata": {},
   "outputs": [
    {
     "data": {
      "text/plain": [
       "array([0, 1, 2, 3, 4, 5, 6, 7, 8, 9])"
      ]
     },
     "execution_count": 13,
     "metadata": {},
     "output_type": "execute_result"
    }
   ],
   "source": [
    "np.arange(10)"
   ]
  },
  {
   "cell_type": "code",
   "execution_count": 14,
   "metadata": {},
   "outputs": [
    {
     "data": {
      "text/plain": [
       "array([5, 6, 7, 8, 9])"
      ]
     },
     "execution_count": 14,
     "metadata": {},
     "output_type": "execute_result"
    }
   ],
   "source": [
    "np.arange(5, 10)"
   ]
  },
  {
   "cell_type": "code",
   "execution_count": 15,
   "metadata": {},
   "outputs": [
    {
     "data": {
      "text/plain": [
       "array([10, 15, 20, 25])"
      ]
     },
     "execution_count": 15,
     "metadata": {},
     "output_type": "execute_result"
    }
   ],
   "source": [
    "np.arange(start=10, stop=30, step=5) # idem as np.arange(10, 30, 5)"
   ]
  },
  {
   "cell_type": "code",
   "execution_count": 16,
   "metadata": {},
   "outputs": [
    {
     "data": {
      "text/plain": [
       "array([ 0.  ,  0.25,  0.5 ,  0.75,  1.  ,  1.25,  1.5 ,  1.75,  2.  ])"
      ]
     },
     "execution_count": 16,
     "metadata": {},
     "output_type": "execute_result"
    }
   ],
   "source": [
    "np.linspace(start=0, stop=2, num=9) # idem as np.linspace(0, 2, 9)"
   ]
  },
  {
   "cell_type": "markdown",
   "metadata": {},
   "source": [
    "### Array with random values"
   ]
  },
  {
   "cell_type": "code",
   "execution_count": 17,
   "metadata": {},
   "outputs": [
    {
     "data": {
      "text/plain": [
       "array([[ 0.29092314,  0.6239418 ,  0.1026045 ,  0.89997139,  0.12878293,\n",
       "         0.87369612,  0.21055883,  0.48102546],\n",
       "       [ 0.28554273,  0.67075691,  0.92425275,  0.37274577,  0.55473504,\n",
       "         0.3601158 ,  0.82716879,  0.35229509],\n",
       "       [ 0.62338924,  0.94193944,  0.47028157,  0.68179219,  0.8931422 ,\n",
       "         0.38982786,  0.20736267,  0.14168465],\n",
       "       [ 0.05649516,  0.27461097,  0.45341707,  0.00935273,  0.84829226,\n",
       "         0.93752771,  0.15709432,  0.64330556]])"
      ]
     },
     "execution_count": 17,
     "metadata": {},
     "output_type": "execute_result"
    }
   ],
   "source": [
    "np.random.rand(4,8)"
   ]
  },
  {
   "cell_type": "code",
   "execution_count": 18,
   "metadata": {},
   "outputs": [
    {
     "data": {
      "text/plain": [
       "array([[ 1.10862577,  0.94762719,  1.08739713,  0.90714271, -1.03537302,\n",
       "         1.74761205, -0.36054011, -0.06719295],\n",
       "       [-0.89610981, -1.24043088, -0.99899605,  0.56256297,  0.31622241,\n",
       "        -0.94289174,  0.39312455, -0.77393609],\n",
       "       [ 0.06345039,  1.80778142,  1.98585609, -0.12125668, -2.2325608 ,\n",
       "         0.28534115, -0.74437354, -0.86594758],\n",
       "       [ 0.98041147, -1.39021836,  1.89565546, -1.08755423, -0.54340238,\n",
       "         1.17025587,  0.6528681 ,  1.18991773]])"
      ]
     },
     "execution_count": 18,
     "metadata": {},
     "output_type": "execute_result"
    }
   ],
   "source": [
    "np.random.randn(4,8)"
   ]
  },
  {
   "cell_type": "markdown",
   "metadata": {},
   "source": [
    "# NumPy Basic operations "
   ]
  },
  {
   "cell_type": "code",
   "execution_count": 19,
   "metadata": {},
   "outputs": [
    {
     "data": {
      "text/plain": [
       "array([[ 1.,  1.,  1.,  1.],\n",
       "       [ 1.,  1.,  1.,  1.],\n",
       "       [ 1.,  1.,  1.,  1.],\n",
       "       [ 1.,  1.,  1.,  1.]])"
      ]
     },
     "execution_count": 19,
     "metadata": {},
     "output_type": "execute_result"
    }
   ],
   "source": [
    "a = np.ones((4,4))\n",
    "a"
   ]
  },
  {
   "cell_type": "code",
   "execution_count": 20,
   "metadata": {},
   "outputs": [
    {
     "data": {
      "text/plain": [
       "array([[-2. ,  0. ,  0. ,  0. ],\n",
       "       [ 0. ,  0.3,  0. ,  0. ],\n",
       "       [ 0. ,  0. , -4. ,  0. ],\n",
       "       [ 0. ,  0. ,  0. ,  5. ]])"
      ]
     },
     "execution_count": 20,
     "metadata": {},
     "output_type": "execute_result"
    }
   ],
   "source": [
    "b = np.diag([-2, 0.3, -4, 5])\n",
    "b"
   ]
  },
  {
   "cell_type": "markdown",
   "metadata": {},
   "source": [
    "## Arithmetical operations"
   ]
  },
  {
   "cell_type": "code",
   "execution_count": 21,
   "metadata": {},
   "outputs": [
    {
     "data": {
      "text/plain": [
       "array([[-1. ,  1. ,  1. ,  1. ],\n",
       "       [ 1. ,  1.3,  1. ,  1. ],\n",
       "       [ 1. ,  1. , -3. ,  1. ],\n",
       "       [ 1. ,  1. ,  1. ,  6. ]])"
      ]
     },
     "execution_count": 21,
     "metadata": {},
     "output_type": "execute_result"
    }
   ],
   "source": [
    "a + b"
   ]
  },
  {
   "cell_type": "code",
   "execution_count": 22,
   "metadata": {},
   "outputs": [
    {
     "data": {
      "text/plain": [
       "array([[-3. , -1. , -1. , -1. ],\n",
       "       [-1. , -0.7, -1. , -1. ],\n",
       "       [-1. , -1. , -5. , -1. ],\n",
       "       [-1. , -1. , -1. ,  4. ]])"
      ]
     },
     "execution_count": 22,
     "metadata": {},
     "output_type": "execute_result"
    }
   ],
   "source": [
    "b - a"
   ]
  },
  {
   "cell_type": "code",
   "execution_count": 23,
   "metadata": {},
   "outputs": [
    {
     "data": {
      "text/plain": [
       "array([[-2. ,  0. ,  0. ,  0. ],\n",
       "       [ 0. ,  0.3,  0. ,  0. ],\n",
       "       [ 0. ,  0. , -4. ,  0. ],\n",
       "       [ 0. ,  0. ,  0. ,  5. ]])"
      ]
     },
     "execution_count": 23,
     "metadata": {},
     "output_type": "execute_result"
    }
   ],
   "source": [
    "a * b"
   ]
  },
  {
   "cell_type": "code",
   "execution_count": 24,
   "metadata": {},
   "outputs": [
    {
     "data": {
      "text/plain": [
       "array([[ 3.,  3.,  3.,  3.],\n",
       "       [ 3.,  3.,  3.,  3.],\n",
       "       [ 3.,  3.,  3.,  3.],\n",
       "       [ 3.,  3.,  3.,  3.]])"
      ]
     },
     "execution_count": 24,
     "metadata": {},
     "output_type": "execute_result"
    }
   ],
   "source": [
    "3 * a"
   ]
  },
  {
   "cell_type": "code",
   "execution_count": 25,
   "metadata": {},
   "outputs": [
    {
     "data": {
      "text/plain": [
       "array([[  4.  ,   0.  ,   0.  ,   0.  ],\n",
       "       [  0.  ,   0.09,   0.  ,   0.  ],\n",
       "       [  0.  ,   0.  ,  16.  ,   0.  ],\n",
       "       [  0.  ,   0.  ,   0.  ,  25.  ]])"
      ]
     },
     "execution_count": 25,
     "metadata": {},
     "output_type": "execute_result"
    }
   ],
   "source": [
    "b ** 2"
   ]
  },
  {
   "cell_type": "code",
   "execution_count": 26,
   "metadata": {},
   "outputs": [
    {
     "data": {
      "text/plain": [
       "array([[-1.  ,  0.  ,  0.  ,  0.  ],\n",
       "       [ 0.  ,  0.15,  0.  ,  0.  ],\n",
       "       [ 0.  ,  0.  , -2.  ,  0.  ],\n",
       "       [ 0.  ,  0.  ,  0.  ,  2.5 ]])"
      ]
     },
     "execution_count": 26,
     "metadata": {},
     "output_type": "execute_result"
    }
   ],
   "source": [
    "b / (2 * a)"
   ]
  },
  {
   "cell_type": "markdown",
   "metadata": {},
   "source": [
    "## Logical operations"
   ]
  },
  {
   "cell_type": "code",
   "execution_count": 27,
   "metadata": {},
   "outputs": [
    {
     "data": {
      "text/plain": [
       "array([[False,  True,  True,  True],\n",
       "       [ True, False,  True,  True],\n",
       "       [ True,  True, False,  True],\n",
       "       [ True,  True,  True, False]], dtype=bool)"
      ]
     },
     "execution_count": 27,
     "metadata": {},
     "output_type": "execute_result"
    }
   ],
   "source": [
    "b == 0"
   ]
  },
  {
   "cell_type": "code",
   "execution_count": 28,
   "metadata": {},
   "outputs": [
    {
     "data": {
      "text/plain": [
       "array([[False, False, False, False],\n",
       "       [False, False, False, False],\n",
       "       [False, False, False, False],\n",
       "       [False, False, False,  True]], dtype=bool)"
      ]
     },
     "execution_count": 28,
     "metadata": {},
     "output_type": "execute_result"
    }
   ],
   "source": [
    "b > a"
   ]
  },
  {
   "cell_type": "markdown",
   "metadata": {},
   "source": [
    "## Matrix multiplication"
   ]
  },
  {
   "cell_type": "code",
   "execution_count": 29,
   "metadata": {},
   "outputs": [
    {
     "data": {
      "text/plain": [
       "array([[-2. ,  0.3, -4. ,  5. ],\n",
       "       [-2. ,  0.3, -4. ,  5. ],\n",
       "       [-2. ,  0.3, -4. ,  5. ],\n",
       "       [-2. ,  0.3, -4. ,  5. ]])"
      ]
     },
     "execution_count": 29,
     "metadata": {},
     "output_type": "execute_result"
    }
   ],
   "source": [
    "a.dot(b)"
   ]
  },
  {
   "cell_type": "markdown",
   "metadata": {},
   "source": [
    "## Universal Functions"
   ]
  },
  {
   "cell_type": "code",
   "execution_count": 30,
   "metadata": {},
   "outputs": [
    {
     "data": {
      "text/plain": [
       "array([[  1.35335283e-01,   1.00000000e+00,   1.00000000e+00,\n",
       "          1.00000000e+00],\n",
       "       [  1.00000000e+00,   1.34985881e+00,   1.00000000e+00,\n",
       "          1.00000000e+00],\n",
       "       [  1.00000000e+00,   1.00000000e+00,   1.83156389e-02,\n",
       "          1.00000000e+00],\n",
       "       [  1.00000000e+00,   1.00000000e+00,   1.00000000e+00,\n",
       "          1.48413159e+02]])"
      ]
     },
     "execution_count": 30,
     "metadata": {},
     "output_type": "execute_result"
    }
   ],
   "source": [
    "np.exp(b)"
   ]
  },
  {
   "cell_type": "code",
   "execution_count": 31,
   "metadata": {},
   "outputs": [
    {
     "data": {
      "text/plain": [
       "array([[-0.90929743,  0.        ,  0.        ,  0.        ],\n",
       "       [ 0.        ,  0.29552021,  0.        ,  0.        ],\n",
       "       [ 0.        ,  0.        ,  0.7568025 ,  0.        ],\n",
       "       [ 0.        ,  0.        ,  0.        , -0.95892427]])"
      ]
     },
     "execution_count": 31,
     "metadata": {},
     "output_type": "execute_result"
    }
   ],
   "source": [
    "np.sin(b)"
   ]
  },
  {
   "cell_type": "markdown",
   "metadata": {},
   "source": [
    "# Indexing and Slicing"
   ]
  },
  {
   "cell_type": "code",
   "execution_count": 40,
   "metadata": {},
   "outputs": [
    {
     "name": "stdout",
     "output_type": "stream",
     "text": [
      "(50,)\n"
     ]
    },
    {
     "data": {
      "text/plain": [
       "array([  9.20847264,  15.03162782,  11.09671816,   9.0709114 ,\n",
       "         4.82791798,  12.60629396,   5.31555239,  21.21205503,\n",
       "        23.72819662,   3.42045316,  17.71037633,   8.51132219,\n",
       "         9.88155964,  22.39588234,  -7.51373796,  -6.95047451,\n",
       "        -9.29235609,  19.14169459,  17.23548628,  20.45042519,\n",
       "        24.25164198,  17.97054975,   6.15177768,  17.31852117,\n",
       "        -5.86039509,  12.39723575,  -4.98263494,  23.0634121 ,\n",
       "         8.26469126,   4.5131679 ,  -0.74055358,  17.09817913,\n",
       "         5.96526163,   9.89518821,  -9.34235698,  11.6172424 ,\n",
       "        11.4233503 ,  11.59268989,  23.03118275,  13.86371047,\n",
       "         2.58277652,   5.29611838,  14.41709186,  -7.89210849,\n",
       "        13.33683504,  13.47232544,  -2.63661036,  -5.48757958,\n",
       "         1.03999228,   2.72987698])"
      ]
     },
     "execution_count": 40,
     "metadata": {},
     "output_type": "execute_result"
    }
   ],
   "source": [
    "np.random.seed(0) # fix the np.random seed so we always get the same results when calling np.random\n",
    "temperatures = 35 * np.random.rand(50) - 10\n",
    "print(temperatures.shape)\n",
    "temperatures"
   ]
  },
  {
   "cell_type": "markdown",
   "metadata": {},
   "source": [
    "## Indexing"
   ]
  },
  {
   "cell_type": "code",
   "execution_count": 33,
   "metadata": {},
   "outputs": [
    {
     "data": {
      "text/plain": [
       "9.2084726374563672"
      ]
     },
     "execution_count": 33,
     "metadata": {},
     "output_type": "execute_result"
    }
   ],
   "source": [
    "temperatures[0]"
   ]
  },
  {
   "cell_type": "code",
   "execution_count": 34,
   "metadata": {},
   "outputs": [
    {
     "data": {
      "text/plain": [
       "array([  9.20847264,  15.03162782,  11.09671816,   9.0709114 ,\n",
       "         4.82791798,  12.60629396,   5.31555239,  21.21205503,\n",
       "        23.72819662,   3.42045316])"
      ]
     },
     "execution_count": 34,
     "metadata": {},
     "output_type": "execute_result"
    }
   ],
   "source": [
    "temperatures[:10]"
   ]
  },
  {
   "cell_type": "code",
   "execution_count": 35,
   "metadata": {},
   "outputs": [
    {
     "data": {
      "text/plain": [
       "array([ 12.60629396,   5.31555239,  21.21205503,  23.72819662,   3.42045316])"
      ]
     },
     "execution_count": 35,
     "metadata": {},
     "output_type": "execute_result"
    }
   ],
   "source": [
    "temperatures[5:10]"
   ]
  },
  {
   "cell_type": "code",
   "execution_count": 36,
   "metadata": {},
   "outputs": [
    {
     "data": {
      "text/plain": [
       "2.7298769829917919"
      ]
     },
     "execution_count": 36,
     "metadata": {},
     "output_type": "execute_result"
    }
   ],
   "source": [
    "temperatures[-1]"
   ]
  },
  {
   "cell_type": "code",
   "execution_count": 37,
   "metadata": {},
   "outputs": [
    {
     "data": {
      "text/plain": [
       "array([ 13.47232544,  -2.63661036,  -5.48757958,   1.03999228,   2.72987698])"
      ]
     },
     "execution_count": 37,
     "metadata": {},
     "output_type": "execute_result"
    }
   ],
   "source": [
    "temperatures[-5:]"
   ]
  },
  {
   "cell_type": "markdown",
   "metadata": {},
   "source": [
    "## Slicing"
   ]
  },
  {
   "cell_type": "code",
   "execution_count": 38,
   "metadata": {},
   "outputs": [
    {
     "data": {
      "text/plain": [
       "array([  9.20847264,  15.03162782,  11.09671816,   9.0709114 ,\n",
       "         4.82791798,  12.60629396,   5.31555239,  21.21205503,\n",
       "        23.72819662,   3.42045316,  17.71037633,   8.51132219,\n",
       "         9.88155964,  22.39588234,  19.14169459,  17.23548628,\n",
       "        20.45042519,  24.25164198,  17.97054975,   6.15177768,\n",
       "        17.31852117,  12.39723575,  23.0634121 ,   8.26469126,\n",
       "         4.5131679 ,  17.09817913,   5.96526163,   9.89518821,\n",
       "        11.6172424 ,  11.4233503 ,  11.59268989,  23.03118275,\n",
       "        13.86371047,   2.58277652,   5.29611838,  14.41709186,\n",
       "        13.33683504,  13.47232544,   1.03999228,   2.72987698])"
      ]
     },
     "execution_count": 38,
     "metadata": {},
     "output_type": "execute_result"
    }
   ],
   "source": [
    "temperatures[temperatures > 0]"
   ]
  },
  {
   "cell_type": "markdown",
   "metadata": {},
   "source": [
    "## 2D array"
   ]
  },
  {
   "cell_type": "code",
   "execution_count": 84,
   "metadata": {},
   "outputs": [
    {
     "data": {
      "text/plain": [
       "array([[ 0,  1,  2,  3,  4,  5],\n",
       "       [ 6,  7,  8,  9, 10, 11],\n",
       "       [12, 13, 14, 15, 16, 17],\n",
       "       [18, 19, 20, 21, 22, 23],\n",
       "       [24, 25, 26, 27, 28, 29]])"
      ]
     },
     "execution_count": 84,
     "metadata": {},
     "output_type": "execute_result"
    }
   ],
   "source": [
    "t = np.arange(30).reshape(5,6)\n",
    "t"
   ]
  },
  {
   "cell_type": "code",
   "execution_count": 88,
   "metadata": {},
   "outputs": [
    {
     "data": {
      "text/plain": [
       "array([[12, 13, 14, 15],\n",
       "       [18, 19, 20, 21]])"
      ]
     },
     "execution_count": 88,
     "metadata": {},
     "output_type": "execute_result"
    }
   ],
   "source": [
    "t[2:4, :4]"
   ]
  },
  {
   "cell_type": "code",
   "execution_count": 93,
   "metadata": {},
   "outputs": [
    {
     "data": {
      "text/plain": [
       "array([[ 3,  4,  5],\n",
       "       [ 9, 10, 11],\n",
       "       [15, 16, 17],\n",
       "       [21, 22, 23]])"
      ]
     },
     "execution_count": 93,
     "metadata": {},
     "output_type": "execute_result"
    }
   ],
   "source": [
    "t[:-1, t[0] > 2]"
   ]
  },
  {
   "cell_type": "markdown",
   "metadata": {},
   "source": [
    "# Modifying content of an array"
   ]
  },
  {
   "cell_type": "markdown",
   "metadata": {},
   "source": [
    "## 1 dimensionnal"
   ]
  },
  {
   "cell_type": "code",
   "execution_count": 105,
   "metadata": {},
   "outputs": [
    {
     "data": {
      "text/plain": [
       "array([  9.20847264,  15.03162782,  11.09671816,   9.0709114 ,\n",
       "         4.82791798,  12.60629396,   5.31555239,  21.21205503,\n",
       "        23.72819662,   3.42045316,  17.71037633,   8.51132219,\n",
       "         9.88155964,  22.39588234,  -7.51373796,  -6.95047451,\n",
       "        -9.29235609,  19.14169459,  17.23548628,  20.45042519,\n",
       "        24.25164198,  17.97054975,   6.15177768,  17.31852117,\n",
       "        -5.86039509,  12.39723575,  -4.98263494,  23.0634121 ,\n",
       "         8.26469126,   4.5131679 ,  -0.74055358,  17.09817913,\n",
       "         5.96526163,   9.89518821,  -9.34235698,  11.6172424 ,\n",
       "        11.4233503 ,  11.59268989,  23.03118275,  13.86371047,\n",
       "         2.58277652,   5.29611838,  14.41709186,  -7.89210849,\n",
       "        13.33683504,  13.47232544,  -2.63661036,  -5.48757958,\n",
       "         1.03999228,   2.72987698])"
      ]
     },
     "execution_count": 105,
     "metadata": {},
     "output_type": "execute_result"
    }
   ],
   "source": [
    "np.random.seed(0) # fix the np.random seed so we always get the same results when calling np.random\n",
    "temperatures = 35 * np.random.rand(50) - 10\n",
    "temperatures"
   ]
  },
  {
   "cell_type": "code",
   "execution_count": 106,
   "metadata": {},
   "outputs": [
    {
     "data": {
      "text/plain": [
       "array([  0.        ,  15.03162782,  11.09671816,   9.0709114 ,\n",
       "         4.82791798,  12.60629396,   5.31555239,  21.21205503,\n",
       "        23.72819662,   3.42045316,  17.71037633,   8.51132219,\n",
       "         9.88155964,  22.39588234,  -7.51373796,  -6.95047451,\n",
       "        -9.29235609,  19.14169459,  17.23548628,  20.45042519,\n",
       "        24.25164198,  17.97054975,   6.15177768,  17.31852117,\n",
       "        -5.86039509,  12.39723575,  -4.98263494,  23.0634121 ,\n",
       "         8.26469126,   4.5131679 ,  -0.74055358,  17.09817913,\n",
       "         5.96526163,   9.89518821,  -9.34235698,  11.6172424 ,\n",
       "        11.4233503 ,  11.59268989,  23.03118275,  13.86371047,\n",
       "         2.58277652,   5.29611838,  14.41709186,  -7.89210849,\n",
       "        13.33683504,  13.47232544,  -2.63661036,  -5.48757958,\n",
       "         1.03999228,   2.72987698])"
      ]
     },
     "execution_count": 106,
     "metadata": {},
     "output_type": "execute_result"
    }
   ],
   "source": [
    "temperatures[0] = 0\n",
    "temperatures"
   ]
  },
  {
   "cell_type": "code",
   "execution_count": 107,
   "metadata": {},
   "outputs": [
    {
     "data": {
      "text/plain": [
       "array([  0.        ,  15.03162782,  11.09671816,   9.0709114 ,\n",
       "         4.82791798,  12.60629396,   5.31555239,  21.21205503,\n",
       "        23.72819662,   3.42045316,  17.71037633,   8.51132219,\n",
       "         9.88155964,  22.39588234,   0.        ,   0.        ,\n",
       "         0.        ,  19.14169459,  17.23548628,  20.45042519,\n",
       "        24.25164198,  17.97054975,   6.15177768,  17.31852117,\n",
       "         0.        ,  12.39723575,   0.        ,  23.0634121 ,\n",
       "         8.26469126,   4.5131679 ,   0.        ,  17.09817913,\n",
       "         5.96526163,   9.89518821,   0.        ,  11.6172424 ,\n",
       "        11.4233503 ,  11.59268989,  23.03118275,  13.86371047,\n",
       "         2.58277652,   5.29611838,  14.41709186,   0.        ,\n",
       "        13.33683504,  13.47232544,   0.        ,   0.        ,\n",
       "         1.03999228,   2.72987698])"
      ]
     },
     "execution_count": 107,
     "metadata": {},
     "output_type": "execute_result"
    }
   ],
   "source": [
    "temperatures[temperatures < 0] = 0\n",
    "temperatures"
   ]
  },
  {
   "cell_type": "code",
   "execution_count": 109,
   "metadata": {},
   "outputs": [
    {
     "data": {
      "text/plain": [
       "array([  0.        ,  15.03162782,  11.09671816,   9.0709114 ,\n",
       "         4.82791798,  12.60629396,   5.31555239,   9.85858584,\n",
       "         9.85858584,   3.42045316,  17.71037633,   8.51132219,\n",
       "         9.88155964,   9.85858584,   0.        ,   0.        ,\n",
       "         0.        ,  19.14169459,  17.23548628,   9.85858584,\n",
       "         9.85858584,  17.97054975,   6.15177768,  17.31852117,\n",
       "         0.        ,  12.39723575,   0.        ,   9.85858584,\n",
       "         8.26469126,   4.5131679 ,   0.        ,  17.09817913,\n",
       "         5.96526163,   9.89518821,   0.        ,  11.6172424 ,\n",
       "        11.4233503 ,  11.59268989,   9.85858584,  13.86371047,\n",
       "         2.58277652,   5.29611838,  14.41709186,   0.        ,\n",
       "        13.33683504,  13.47232544,   0.        ,   0.        ,\n",
       "         1.03999228,   2.72987698])"
      ]
     },
     "execution_count": 109,
     "metadata": {},
     "output_type": "execute_result"
    }
   ],
   "source": [
    "temperatures[temperatures > 20] = temperatures.mean()\n",
    "temperatures"
   ]
  },
  {
   "cell_type": "markdown",
   "metadata": {},
   "source": [
    "## 2 dimensional"
   ]
  },
  {
   "cell_type": "code",
   "execution_count": 120,
   "metadata": {},
   "outputs": [
    {
     "data": {
      "text/plain": [
       "array([[ 0.5488135 ,  0.71518937,  0.60276338,  0.54488318,  0.4236548 ],\n",
       "       [ 0.64589411,  0.43758721,  0.891773  ,  0.96366276,  0.38344152],\n",
       "       [ 0.79172504,  0.52889492,  0.56804456,  0.92559664,  0.07103606],\n",
       "       [ 0.0871293 ,  0.0202184 ,  0.83261985,  0.77815675,  0.87001215],\n",
       "       [ 0.97861834,  0.79915856,  0.46147936,  0.78052918,  0.11827443],\n",
       "       [ 0.63992102,  0.14335329,  0.94466892,  0.52184832,  0.41466194],\n",
       "       [ 0.26455561,  0.77423369,  0.45615033,  0.56843395,  0.0187898 ],\n",
       "       [ 0.6176355 ,  0.61209572,  0.616934  ,  0.94374808,  0.6818203 ],\n",
       "       [ 0.3595079 ,  0.43703195,  0.6976312 ,  0.06022547,  0.66676672],\n",
       "       [ 0.67063787,  0.21038256,  0.1289263 ,  0.31542835,  0.36371077]])"
      ]
     },
     "execution_count": 120,
     "metadata": {},
     "output_type": "execute_result"
    }
   ],
   "source": [
    "np.random.seed(0) # fix the np.random seed so we always get the same results when calling np.random\n",
    "temperatures = np.random.rand(50).reshape(10, 5)\n",
    "temperatures"
   ]
  },
  {
   "cell_type": "code",
   "execution_count": 121,
   "metadata": {},
   "outputs": [
    {
     "data": {
      "text/plain": [
       "array([[ 0.5488135 , -0.71518937,  0.60276338,  0.54488318,  0.4236548 ],\n",
       "       [ 0.64589411,  0.43758721, -0.891773  , -0.96366276,  0.38344152],\n",
       "       [-0.79172504,  0.52889492,  0.56804456, -0.92559664,  0.07103606],\n",
       "       [ 0.0871293 ,  0.0202184 , -0.83261985, -0.77815675, -0.87001215],\n",
       "       [-0.97861834, -0.79915856,  0.46147936, -0.78052918,  0.11827443],\n",
       "       [ 0.63992102,  0.14335329, -0.94466892,  0.52184832,  0.41466194],\n",
       "       [ 0.26455561, -0.77423369,  0.45615033,  0.56843395,  0.0187898 ],\n",
       "       [ 0.6176355 ,  0.61209572,  0.616934  , -0.94374808,  0.6818203 ],\n",
       "       [ 0.3595079 ,  0.43703195,  0.6976312 ,  0.06022547,  0.66676672],\n",
       "       [ 0.67063787,  0.21038256,  0.1289263 ,  0.31542835,  0.36371077]])"
      ]
     },
     "execution_count": 121,
     "metadata": {},
     "output_type": "execute_result"
    }
   ],
   "source": [
    "temperatures[temperatures ** 2 > 0.5] = -temperatures[temperatures ** 2 > 0.5] \n",
    "temperatures"
   ]
  },
  {
   "cell_type": "markdown",
   "metadata": {},
   "source": [
    "# Data manipulation"
   ]
  },
  {
   "cell_type": "markdown",
   "metadata": {},
   "source": [
    "## Sorting"
   ]
  },
  {
   "cell_type": "code",
   "execution_count": 41,
   "metadata": {},
   "outputs": [
    {
     "data": {
      "text/plain": [
       "array([ -9.34235698,  -9.29235609,  -7.89210849,  -7.51373796,\n",
       "        -6.95047451,  -5.86039509,  -5.48757958,  -4.98263494,\n",
       "        -2.63661036,  -0.74055358,   1.03999228,   2.58277652,\n",
       "         2.72987698,   3.42045316,   4.5131679 ,   4.82791798,\n",
       "         5.29611838,   5.31555239,   5.96526163,   6.15177768,\n",
       "         8.26469126,   8.51132219,   9.0709114 ,   9.20847264,\n",
       "         9.88155964,   9.89518821,  11.09671816,  11.4233503 ,\n",
       "        11.59268989,  11.6172424 ,  12.39723575,  12.60629396,\n",
       "        13.33683504,  13.47232544,  13.86371047,  14.41709186,\n",
       "        15.03162782,  17.09817913,  17.23548628,  17.31852117,\n",
       "        17.71037633,  17.97054975,  19.14169459,  20.45042519,\n",
       "        21.21205503,  22.39588234,  23.03118275,  23.0634121 ,\n",
       "        23.72819662,  24.25164198])"
      ]
     },
     "execution_count": 41,
     "metadata": {},
     "output_type": "execute_result"
    }
   ],
   "source": [
    "np.sort(temperatures)"
   ]
  },
  {
   "cell_type": "code",
   "execution_count": 48,
   "metadata": {},
   "outputs": [
    {
     "data": {
      "text/plain": [
       "array([ 24.25164198,  23.72819662,  23.0634121 ,  23.03118275,\n",
       "        22.39588234,  21.21205503,  20.45042519,  19.14169459,\n",
       "        17.97054975,  17.71037633,  17.31852117,  17.23548628,\n",
       "        17.09817913,  15.03162782,  14.41709186,  13.86371047,\n",
       "        13.47232544,  13.33683504,  12.60629396,  12.39723575,\n",
       "        11.6172424 ,  11.59268989,  11.4233503 ,  11.09671816,\n",
       "         9.89518821,   9.88155964,   9.20847264,   9.0709114 ,\n",
       "         8.51132219,   8.26469126,   6.15177768,   5.96526163,\n",
       "         5.31555239,   5.29611838,   4.82791798,   4.5131679 ,\n",
       "         3.42045316,   2.72987698,   2.58277652,   1.03999228,\n",
       "        -0.74055358,  -2.63661036,  -4.98263494,  -5.48757958,\n",
       "        -5.86039509,  -6.95047451,  -7.51373796,  -7.89210849,\n",
       "        -9.29235609,  -9.34235698])"
      ]
     },
     "execution_count": 48,
     "metadata": {},
     "output_type": "execute_result"
    }
   ],
   "source": [
    "-np.sort(-temperatures)"
   ]
  },
  {
   "cell_type": "code",
   "execution_count": 49,
   "metadata": {},
   "outputs": [
    {
     "data": {
      "text/plain": [
       "array([34, 16, 43, 14, 15, 24, 47, 26, 46, 30, 48, 40, 49,  9, 29,  4, 41,\n",
       "        6, 32, 22, 28, 11,  3,  0, 12, 33,  2, 36, 37, 35, 25,  5, 44, 45,\n",
       "       39, 42,  1, 31, 18, 23, 10, 21, 17, 19,  7, 13, 38, 27,  8, 20])"
      ]
     },
     "execution_count": 49,
     "metadata": {},
     "output_type": "execute_result"
    }
   ],
   "source": [
    "np.argsort(temperatures)"
   ]
  },
  {
   "cell_type": "code",
   "execution_count": 50,
   "metadata": {},
   "outputs": [
    {
     "data": {
      "text/plain": [
       "array([ -9.34235698,  -9.29235609,  -7.89210849,  -7.51373796,\n",
       "        -6.95047451,  -5.86039509,  -5.48757958,  -4.98263494,\n",
       "        -2.63661036,  -0.74055358,   1.03999228,   2.58277652,\n",
       "         2.72987698,   3.42045316,   4.5131679 ,   4.82791798,\n",
       "         5.29611838,   5.31555239,   5.96526163,   6.15177768,\n",
       "         8.26469126,   8.51132219,   9.0709114 ,   9.20847264,\n",
       "         9.88155964,   9.89518821,  11.09671816,  11.4233503 ,\n",
       "        11.59268989,  11.6172424 ,  12.39723575,  12.60629396,\n",
       "        13.33683504,  13.47232544,  13.86371047,  14.41709186,\n",
       "        15.03162782,  17.09817913,  17.23548628,  17.31852117,\n",
       "        17.71037633,  17.97054975,  19.14169459,  20.45042519,\n",
       "        21.21205503,  22.39588234,  23.03118275,  23.0634121 ,\n",
       "        23.72819662,  24.25164198])"
      ]
     },
     "execution_count": 50,
     "metadata": {},
     "output_type": "execute_result"
    }
   ],
   "source": [
    "temperatures[np.argsort(temperatures)]"
   ]
  },
  {
   "cell_type": "markdown",
   "metadata": {},
   "source": [
    "## Aggregating"
   ]
  },
  {
   "cell_type": "code",
   "execution_count": 44,
   "metadata": {},
   "outputs": [
    {
     "data": {
      "text/plain": [
       "24.251641978146743"
      ]
     },
     "execution_count": 44,
     "metadata": {},
     "output_type": "execute_result"
    }
   ],
   "source": [
    "temperatures.max()"
   ]
  },
  {
   "cell_type": "code",
   "execution_count": 45,
   "metadata": {},
   "outputs": [
    {
     "data": {
      "text/plain": [
       "-9.3423569847275694"
      ]
     },
     "execution_count": 45,
     "metadata": {},
     "output_type": "execute_result"
    }
   ],
   "source": [
    "temperatures.min()"
   ]
  },
  {
   "cell_type": "code",
   "execution_count": 46,
   "metadata": {},
   "outputs": [
    {
     "data": {
      "text/plain": [
       "8.8287791396439381"
      ]
     },
     "execution_count": 46,
     "metadata": {},
     "output_type": "execute_result"
    }
   ],
   "source": [
    "temperatures.mean()"
   ]
  },
  {
   "cell_type": "code",
   "execution_count": 47,
   "metadata": {},
   "outputs": [
    {
     "data": {
      "text/plain": [
       "9.5293038022621559"
      ]
     },
     "execution_count": 47,
     "metadata": {},
     "output_type": "execute_result"
    }
   ],
   "source": [
    "temperatures.std()"
   ]
  },
  {
   "cell_type": "markdown",
   "metadata": {},
   "source": [
    "## 2D"
   ]
  },
  {
   "cell_type": "code",
   "execution_count": 55,
   "metadata": {},
   "outputs": [
    {
     "data": {
      "text/plain": [
       "array([[ 1.76405235,  0.40015721,  0.97873798,  2.2408932 ],\n",
       "       [ 1.86755799, -0.97727788,  0.95008842, -0.15135721],\n",
       "       [-0.10321885,  0.4105985 ,  0.14404357,  1.45427351],\n",
       "       [ 0.76103773,  0.12167502,  0.44386323,  0.33367433],\n",
       "       [ 1.49407907, -0.20515826,  0.3130677 , -0.85409574]])"
      ]
     },
     "execution_count": 55,
     "metadata": {},
     "output_type": "execute_result"
    }
   ],
   "source": [
    "np.random.seed(0)\n",
    "random_array = np.random.randn(5,4)\n",
    "random_array"
   ]
  },
  {
   "cell_type": "code",
   "execution_count": 56,
   "metadata": {},
   "outputs": [
    {
     "data": {
      "text/plain": [
       "2.2408931992014578"
      ]
     },
     "execution_count": 56,
     "metadata": {},
     "output_type": "execute_result"
    }
   ],
   "source": [
    "random_array.max()"
   ]
  },
  {
   "cell_type": "code",
   "execution_count": 58,
   "metadata": {},
   "outputs": [
    {
     "data": {
      "text/plain": [
       "array([ 1.86755799,  0.4105985 ,  0.97873798,  2.2408932 ])"
      ]
     },
     "execution_count": 58,
     "metadata": {},
     "output_type": "execute_result"
    }
   ],
   "source": [
    "random_array.max(axis=0)"
   ]
  },
  {
   "cell_type": "code",
   "execution_count": 59,
   "metadata": {},
   "outputs": [
    {
     "data": {
      "text/plain": [
       "array([ 2.2408932 ,  1.86755799,  1.45427351,  0.76103773,  1.49407907])"
      ]
     },
     "execution_count": 59,
     "metadata": {},
     "output_type": "execute_result"
    }
   ],
   "source": [
    "random_array.max(axis=1)"
   ]
  },
  {
   "cell_type": "code",
   "execution_count": 61,
   "metadata": {},
   "outputs": [
    {
     "data": {
      "text/plain": [
       "array([ 1.34596018,  0.42225283,  0.47642418,  0.41506258,  0.18697319])"
      ]
     },
     "execution_count": 61,
     "metadata": {},
     "output_type": "execute_result"
    }
   ],
   "source": [
    "random_array.mean(axis=1)"
   ]
  },
  {
   "cell_type": "markdown",
   "metadata": {},
   "source": [
    "# Exercises"
   ]
  },
  {
   "cell_type": "markdown",
   "metadata": {},
   "source": [
    "## 1. Calculate the minimal positive temperature"
   ]
  },
  {
   "cell_type": "code",
   "execution_count": 101,
   "metadata": {},
   "outputs": [
    {
     "data": {
      "text/plain": [
       "array([  9.20847264,  15.03162782,  11.09671816,   9.0709114 ,\n",
       "         4.82791798,  12.60629396,   5.31555239,  21.21205503,\n",
       "        23.72819662,   3.42045316,  17.71037633,   8.51132219,\n",
       "         9.88155964,  22.39588234,  -7.51373796,  -6.95047451,\n",
       "        -9.29235609,  19.14169459,  17.23548628,  20.45042519,\n",
       "        24.25164198,  17.97054975,   6.15177768,  17.31852117,\n",
       "        -5.86039509,  12.39723575,  -4.98263494,  23.0634121 ,\n",
       "         8.26469126,   4.5131679 ,  -0.74055358,  17.09817913,\n",
       "         5.96526163,   9.89518821,  -9.34235698,  11.6172424 ,\n",
       "        11.4233503 ,  11.59268989,  23.03118275,  13.86371047,\n",
       "         2.58277652,   5.29611838,  14.41709186,  -7.89210849,\n",
       "        13.33683504,  13.47232544,  -2.63661036,  -5.48757958,\n",
       "         1.03999228,   2.72987698])"
      ]
     },
     "execution_count": 101,
     "metadata": {},
     "output_type": "execute_result"
    }
   ],
   "source": [
    "np.random.seed(0) # fix the np.random seed so we always get the same results when calling np.random\n",
    "temperatures = 35 * np.random.rand(50) - 10\n",
    "temperatures"
   ]
  },
  {
   "cell_type": "code",
   "execution_count": 103,
   "metadata": {
    "collapsed": true
   },
   "outputs": [],
   "source": [
    "# do the exercise here\n"
   ]
  },
  {
   "cell_type": "markdown",
   "metadata": {},
   "source": [
    "## 2.  Crop a picture"
   ]
  },
  {
   "cell_type": "markdown",
   "metadata": {},
   "source": [
    "### Intro"
   ]
  },
  {
   "cell_type": "code",
   "execution_count": 80,
   "metadata": {},
   "outputs": [
    {
     "data": {
      "text/plain": [
       "array([[114, 130, 145, ..., 119, 129, 137],\n",
       "       [ 83, 104, 123, ..., 118, 134, 146],\n",
       "       [ 68,  88, 109, ..., 119, 134, 145],\n",
       "       ..., \n",
       "       [ 98, 103, 116, ..., 144, 143, 143],\n",
       "       [ 94, 104, 120, ..., 143, 142, 142],\n",
       "       [ 94, 106, 119, ..., 142, 141, 140]], dtype=uint8)"
      ]
     },
     "execution_count": 80,
     "metadata": {},
     "output_type": "execute_result"
    }
   ],
   "source": [
    "from scipy import misc\n",
    "face = misc.face(gray=True) #2D grayscale image\n",
    "face"
   ]
  },
  {
   "cell_type": "code",
   "execution_count": 68,
   "metadata": {},
   "outputs": [
    {
     "data": {
      "text/plain": [
       "<matplotlib.image.AxesImage at 0x7efbf9ac7160>"
      ]
     },
     "execution_count": 68,
     "metadata": {},
     "output_type": "execute_result"
    },
    {
     "data": {
      "image/png": "[encoded data removed]",
      "text/plain": [
       "<matplotlib.figure.Figure at 0x7efbfabbb940>"
      ]
     },
     "metadata": {},
     "output_type": "display_data"
    }
   ],
   "source": [
    "%matplotlib inline\n",
    "import pylab as plt\n",
    "plt.imshow(face, cmap=plt.cm.gray)"
   ]
  },
  {
   "cell_type": "markdown",
   "metadata": {},
   "source": [
    "### Crop the picture"
   ]
  },
  {
   "cell_type": "code",
   "execution_count": null,
   "metadata": {
    "collapsed": true
   },
   "outputs": [],
   "source": [
    "# do the exercise here\n"
   ]
  },
  {
   "cell_type": "markdown",
   "metadata": {},
   "source": [
    "## 3. Frame the picture with a black locket\n",
    "We are aiming to draw a circle around the face of the racoon, within this circle we want to let pixels as they are in the original image, outside of this circle we want all pixel to be black"
   ]
  },
  {
   "cell_type": "markdown",
   "metadata": {},
   "source": [
    "### Intro"
   ]
  },
  {
   "cell_type": "code",
   "execution_count": 99,
   "metadata": {
    "collapsed": true
   },
   "outputs": [],
   "source": [
    "centerx, centery = (660, 300) # coordinates of the center of the circle\n",
    "radius = 230 # radius of the circle"
   ]
  },
  {
   "cell_type": "markdown",
   "metadata": {},
   "source": [
    "### Compute the mask of the circle\n",
    "We aim to compute a 2 dimensional boolean NumPy array with same shape as the original image array, each value of the array should be True if and only if its coordinates belong to circle"
   ]
  },
  {
   "cell_type": "markdown",
   "metadata": {},
   "source": [
    "#### Clue"
   ]
  },
  {
   "cell_type": "code",
   "execution_count": 100,
   "metadata": {},
   "outputs": [
    {
     "name": "stdout",
     "output_type": "stream",
     "text": [
      "[[   0    1    2 ..., 1021 1022 1023]]\n",
      "(1, 1024)\n",
      "(768, 1)\n",
      "[[   0    1    2 ..., 1021 1022 1023]\n",
      " [   1    2    3 ..., 1022 1023 1024]\n",
      " [   2    3    4 ..., 1023 1024 1025]\n",
      " ..., \n",
      " [ 765  766  767 ..., 1786 1787 1788]\n",
      " [ 766  767  768 ..., 1787 1788 1789]\n",
      " [ 767  768  769 ..., 1788 1789 1790]]\n"
     ]
    }
   ],
   "source": [
    "y, x = np.ogrid[0:face.shape[0], 0:face.shape[1]]\n",
    "print(x)\n",
    "print(x.shape)\n",
    "print(y.shape)\n",
    "print(x + y)"
   ]
  },
  {
   "cell_type": "code",
   "execution_count": 102,
   "metadata": {
    "collapsed": true
   },
   "outputs": [],
   "source": [
    "# do the exercise here\n"
   ]
  },
  {
   "cell_type": "markdown",
   "metadata": {},
   "source": [
    "### Add the black locket to the original and then plot it"
   ]
  },
  {
   "cell_type": "code",
   "execution_count": 104,
   "metadata": {
    "collapsed": true
   },
   "outputs": [],
   "source": [
    "# do the exercise here\n"
   ]
  }
 ],
 "metadata": {
  "kernelspec": {
   "display_name": "Python 3",
   "language": "python",
   "name": "python3"
  },
  "language_info": {
   "codemirror_mode": {
    "name": "ipython",
    "version": 3
   },
   "file_extension": ".py",
   "mimetype": "text/x-python",
   "name": "python",
   "nbconvert_exporter": "python",
   "pygments_lexer": "ipython3",
   "version": "3.6.0"
  }
 },
 "nbformat": 4,
 "nbformat_minor": 2
}
